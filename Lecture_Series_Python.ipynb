{
 "cells": [
  {
   "cell_type": "code",
   "execution_count": 1,
   "id": "4bf26318",
   "metadata": {},
   "outputs": [
    {
     "name": "stdout",
     "output_type": "stream",
     "text": [
      "15\n"
     ]
    }
   ],
   "source": [
    "# A lambda function is a small anonymous function.\n",
    "# A lambda function can take any number of arguments, but can only have one expression.\n",
    "\n",
    "x = lambda a: a + 10\n",
    "print((x(5)))"
   ]
  },
  {
   "cell_type": "code",
   "execution_count": 3,
   "id": "833d9d80",
   "metadata": {},
   "outputs": [
    {
     "name": "stdout",
     "output_type": "stream",
     "text": [
      "30\n"
     ]
    }
   ],
   "source": [
    "# lambda function can take any number of argument\n",
    "'''Multiply argument a with b and print the output'''\n",
    "\n",
    "x = lambda a,b : a * b\n",
    "print(x(5, 6))"
   ]
  },
  {
   "cell_type": "code",
   "execution_count": 4,
   "id": "013d3b42",
   "metadata": {},
   "outputs": [
    {
     "name": "stdout",
     "output_type": "stream",
     "text": [
      "15\n"
     ]
    }
   ],
   "source": [
    "# Lambda functions are intended as a shorthand for defining functions that can come in handy to write concise code without wasting multiple lines defining a function. They are also known as anonymous functions, since they do not have a name unless assigned one.\n",
    "\n",
    "x = lambda a,b,c : a + b + c\n",
    "print(x(5,3,7))"
   ]
  },
  {
   "cell_type": "code",
   "execution_count": 8,
   "id": "0a25de98",
   "metadata": {},
   "outputs": [
    {
     "name": "stdout",
     "output_type": "stream",
     "text": [
      "Score is : 214\n"
     ]
    }
   ],
   "source": [
    "score = lambda shan, ajay, mukhee : shan + ajay + mukhee\n",
    "print('Score is :', (score(50,75,89)))"
   ]
  },
  {
   "cell_type": "code",
   "execution_count": 9,
   "id": "437ebf35",
   "metadata": {},
   "outputs": [
    {
     "name": "stdout",
     "output_type": "stream",
     "text": [
      "20\n"
     ]
    }
   ],
   "source": [
    "# Why Use Lambda Functions?\n",
    "#The power of lambda is better shown when you use them as an anonymous function inside another function.\n",
    "\n",
    "#Say you have a function definition that takes one argument, and that argument will be multiplied with an unknown number:\n",
    "\n",
    "def function_learning_lamda(any_no):\n",
    "    return lambda second_no : second_no * any_no\n",
    "\n",
    "any_var = function_learning_lamda(4)\n",
    "\n",
    "print(any_var(5))\n",
    "    "
   ]
  },
  {
   "cell_type": "code",
   "execution_count": 10,
   "id": "8cbc0890",
   "metadata": {},
   "outputs": [
    {
     "name": "stdout",
     "output_type": "stream",
     "text": [
      "22\n"
     ]
    }
   ],
   "source": [
    "def myfunc(n):\n",
    "    return lambda a : a * n\n",
    "\n",
    "mydoubler = myfunc(2)\n",
    "\n",
    "print(mydoubler(11))"
   ]
  },
  {
   "cell_type": "code",
   "execution_count": 12,
   "id": "eb4a1245",
   "metadata": {},
   "outputs": [
    {
     "name": "stdout",
     "output_type": "stream",
     "text": [
      "33\n"
     ]
    }
   ],
   "source": [
    "def myfunc(n):\n",
    "  return lambda a : a * n\n",
    "\n",
    "mytripler = myfunc(3)\n",
    "\n",
    "print(mytripler(11))"
   ]
  },
  {
   "cell_type": "code",
   "execution_count": 13,
   "id": "218dcf87",
   "metadata": {},
   "outputs": [
    {
     "name": "stdout",
     "output_type": "stream",
     "text": [
      "22\n",
      "33\n",
      "55\n"
     ]
    }
   ],
   "source": [
    "# Or, use the same function definition to make both functions, in the same program:\n",
    "def myfunc(n):\n",
    "    return lambda a : a * n\n",
    "\n",
    "mydouler = myfunc(2)\n",
    "mytripler = myfunc(3)\n",
    "myfifler = myfunc(5)\n",
    "\n",
    "print(mydouler(11))\n",
    "print(mytripler(11))\n",
    "print(myfifler(11))"
   ]
  },
  {
   "cell_type": "code",
   "execution_count": 1,
   "id": "31910fff",
   "metadata": {},
   "outputs": [],
   "source": [
    "'''Equals:     a == b\n",
    "   Not equals: a != b\n",
    "   less than:  a < b\n",
    "   less than or equal: to   a <= b\n",
    "   Greater than:   a > b\n",
    "   Greater than or equal to a >= b\n",
    "'''\n",
    "print('hello world')"
   ]
  },
  {
   "cell_type": "code",
   "execution_count": 2,
   "id": "ff49ab00",
   "metadata": {},
   "outputs": [],
   "source": [
    "a = 33\n",
    "b = 22\n",
    "\n",
    "if a > b:\n",
    "    print(\"A is greater\")"
   ]
  },
  {
   "cell_type": "code",
   "execution_count": 3,
   "id": "25b0da50",
   "metadata": {},
   "outputs": [
    {
     "name": "stdout",
     "output_type": "stream",
     "text": [
      "A is greater\n"
     ]
    }
   ],
   "source": [
    "# elif \n",
    "# elif means if the prvious condition is not true then try this condition\n",
    "\n",
    "a = 33\n",
    "b = 22\n",
    "\n",
    "if b > a:\n",
    "    print(\"B is greater\")\n",
    "elif a > b:\n",
    "    print(\"A is greater\")"
   ]
  },
  {
   "cell_type": "code",
   "execution_count": 4,
   "id": "e8622a09",
   "metadata": {},
   "outputs": [
    {
     "name": "stdout",
     "output_type": "stream",
     "text": [
      "Not satified both of conditions\n"
     ]
    }
   ],
   "source": [
    "#else \n",
    "# The else keyword is applied when their is any condition meet \n",
    "# This will catch that which prvious condition do not catch\n",
    "\n",
    "a = 35\n",
    "b = 25\n",
    "\n",
    "if a < b:\n",
    "    print(\"B is greater\")\n",
    "elif b == a:\n",
    "    print(\"Both are equal\")\n",
    "    \n",
    "else:\n",
    "    print(\"Not satified both of conditions\")\n",
    "    "
   ]
  },
  {
   "cell_type": "code",
   "execution_count": 5,
   "id": "ff9c131e",
   "metadata": {},
   "outputs": [
    {
     "name": "stdout",
     "output_type": "stream",
     "text": [
      "no any condition meets\n"
     ]
    }
   ],
   "source": [
    "a = 22\n",
    "b = 24\n",
    "\n",
    "if a > b:\n",
    "    print(\"A is greater\")\n",
    "else:\n",
    "    print(\"no any condition meets\")"
   ]
  },
  {
   "cell_type": "code",
   "execution_count": 6,
   "id": "9345e3e3",
   "metadata": {},
   "outputs": [
    {
     "name": "stdout",
     "output_type": "stream",
     "text": [
      "print both condition are true\n"
     ]
    }
   ],
   "source": [
    "'''AND''' # is a logical operator, and is used to combine conditional statements\n",
    "a = 200\n",
    "b = 300\n",
    "c = 500\n",
    "\n",
    "if a < b and c > a:\n",
    "    print('print both condition are true')"
   ]
  },
  {
   "cell_type": "code",
   "execution_count": 7,
   "id": "5c164e03",
   "metadata": {},
   "outputs": [
    {
     "name": "stdout",
     "output_type": "stream",
     "text": [
      "Both condition are true\n"
     ]
    }
   ],
   "source": [
    "a = 200\n",
    "b = 33\n",
    "c = 500\n",
    "\n",
    "if a > b and c > a:\n",
    "    print('Both condition are true')\n"
   ]
  },
  {
   "cell_type": "code",
   "execution_count": 8,
   "id": "a5ffdf7c",
   "metadata": {},
   "outputs": [
    {
     "name": "stdout",
     "output_type": "stream",
     "text": [
      "At least one of the condition are true\n"
     ]
    }
   ],
   "source": [
    "a = 200\n",
    "b = 33\n",
    "c = 500\n",
    "\n",
    "if a > b or a > c:\n",
    "    print('At least one of the condition are true')\n",
    "else:\n",
    "    print('both condition are wrong')"
   ]
  },
  {
   "cell_type": "code",
   "execution_count": 9,
   "id": "2a022dac",
   "metadata": {},
   "outputs": [
    {
     "name": "stdout",
     "output_type": "stream",
     "text": [
      "both condition are wrong\n"
     ]
    }
   ],
   "source": [
    "a = 200\n",
    "b = 33\n",
    "c = 500\n",
    "\n",
    "if a < b or a > c:\n",
    "    print('At least one of the condition are true')\n",
    "else:\n",
    "    print('both condition are wrong')"
   ]
  },
  {
   "cell_type": "code",
   "execution_count": 10,
   "id": "0fac0ed8",
   "metadata": {},
   "outputs": [
    {
     "name": "stdout",
     "output_type": "stream",
     "text": [
      "Is above 10\n",
      "also is above 20\n"
     ]
    }
   ],
   "source": [
    "# Nested if \n",
    "\n",
    "x = 50\n",
    "if x > 10:\n",
    "    print('Is above 10')\n",
    "    if x > 20:\n",
    "        print('also is above 20')\n",
    "    else:\n",
    "        print('But not above 20')"
   ]
  },
  {
   "cell_type": "code",
   "execution_count": 11,
   "id": "c7dc3466",
   "metadata": {},
   "outputs": [
    {
     "name": "stdout",
     "output_type": "stream",
     "text": [
      "Is greater than 10\n",
      "Is also greater than 20\n",
      "Is not greater than 30\n"
     ]
    }
   ],
   "source": [
    "x = 25\n",
    "if x > 10:\n",
    "    print('Is greater than 10')\n",
    "    if x > 20:\n",
    "        print('Is also greater than 20')\n",
    "        if x > 30:\n",
    "            print('Is  greater than 30')\n",
    "        else:\n",
    "            print('Is not greater than 30')\n",
    "else:\n",
    "    print('No Condition meet')"
   ]
  },
  {
   "cell_type": "code",
   "execution_count": 48,
   "id": "0b223a36",
   "metadata": {},
   "outputs": [
    {
     "name": "stdout",
     "output_type": "stream",
     "text": [
      "Enter the number :4\n",
      "No Condition meet\n"
     ]
    }
   ],
   "source": [
    "x = int(input('Enter the number :')) # TypeError: '>' not supported between instances of 'str' and 'int'\n",
    "                                     # To solve  the above error we cast our code and used int before input\n",
    "if x > 10: \n",
    "    print('Is greater than 10')\n",
    "    if x > 20:\n",
    "        print('Is also greater than 20')\n",
    "        if x > 30:\n",
    "            print('Is  greater than 30')\n",
    "        else:\n",
    "            print('Is not greater than 30')\n",
    "else:\n",
    "    print('No Condition meet')"
   ]
  },
  {
   "cell_type": "code",
   "execution_count": 65,
   "id": "7ff48c22",
   "metadata": {},
   "outputs": [
    {
     "name": "stdout",
     "output_type": "stream",
     "text": [
      "hello\n"
     ]
    }
   ],
   "source": [
    "# Loops in python \n",
    "print('hello')"
   ]
  },
  {
   "cell_type": "code",
   "execution_count": 68,
   "id": "c3d89bd4",
   "metadata": {},
   "outputs": [
    {
     "name": "stdout",
     "output_type": "stream",
     "text": [
      "Amir\n",
      "Ahsan\n",
      "Farhan\n"
     ]
    }
   ],
   "source": [
    "friends_list=['Amir','Ahsan','Farhan']\n",
    "\n",
    "for friends in friends_list:\n",
    "    print(friends)"
   ]
  },
  {
   "cell_type": "code",
   "execution_count": 69,
   "id": "cf590d56",
   "metadata": {
    "scrolled": true
   },
   "outputs": [
    {
     "name": "stdout",
     "output_type": "stream",
     "text": [
      "Amir\n",
      "Ahsan\n"
     ]
    }
   ],
   "source": [
    "friends_list=['Amir','Ahsan','Farhan']\n",
    "for friends in friends_list:\n",
    "    print(friends)\n",
    "    if friends == 'Ahsan':\n",
    "        break\n",
    "    "
   ]
  },
  {
   "cell_type": "code",
   "execution_count": 83,
   "id": "14cb8c2c",
   "metadata": {},
   "outputs": [
    {
     "name": "stdout",
     "output_type": "stream",
     "text": [
      "Amir\n"
     ]
    }
   ],
   "source": [
    "friends_list=['Amir','Ahsan','Farhan']\n",
    "for friends in friends_list:\n",
    "    if friends == 'Ahsan':\n",
    "        break\n",
    "    \n",
    "    print(friends)"
   ]
  },
  {
   "cell_type": "code",
   "execution_count": 81,
   "id": "6f9bfec0",
   "metadata": {},
   "outputs": [
    {
     "name": "stdout",
     "output_type": "stream",
     "text": [
      "apple\n"
     ]
    }
   ],
   "source": [
    "fruits = [\"apple\", \"banana\", \"cherry\"]\n",
    "for x in fruits:\n",
    "  if x == \"banana\":\n",
    "    break\n",
    "  print(x)"
   ]
  },
  {
   "cell_type": "code",
   "execution_count": 84,
   "id": "d5afd411",
   "metadata": {},
   "outputs": [
    {
     "name": "stdout",
     "output_type": "stream",
     "text": [
      "0\n",
      "1\n",
      "2\n",
      "3\n",
      "4\n",
      "5\n"
     ]
    }
   ],
   "source": [
    "for x in range (6):\n",
    "    print(x)"
   ]
  },
  {
   "cell_type": "code",
   "execution_count": 85,
   "id": "29740cc5",
   "metadata": {
    "scrolled": true
   },
   "outputs": [
    {
     "name": "stdout",
     "output_type": "stream",
     "text": [
      "2\n",
      "3\n",
      "4\n",
      "5\n",
      "6\n",
      "7\n",
      "8\n",
      "9\n"
     ]
    }
   ],
   "source": [
    "for x in range (2,10):\n",
    "    print(x)"
   ]
  },
  {
   "cell_type": "code",
   "execution_count": 86,
   "id": "80fe0bee",
   "metadata": {},
   "outputs": [
    {
     "name": "stdout",
     "output_type": "stream",
     "text": [
      "2\n",
      "5\n"
     ]
    }
   ],
   "source": [
    "for x in range (2,8,3): # \n",
    "    print(x)\n"
   ]
  },
  {
   "cell_type": "code",
   "execution_count": 89,
   "id": "06bfd3b9",
   "metadata": {
    "scrolled": true
   },
   "outputs": [
    {
     "name": "stdout",
     "output_type": "stream",
     "text": [
      "0\n",
      "2\n",
      "4\n",
      "6\n",
      "8\n"
     ]
    }
   ],
   "source": [
    "# print even number from 0 to 10\n",
    "for x in range(0,10,2):\n",
    "    print(x)"
   ]
  },
  {
   "cell_type": "code",
   "execution_count": 91,
   "id": "56085775",
   "metadata": {
    "scrolled": false
   },
   "outputs": [
    {
     "name": "stdout",
     "output_type": "stream",
     "text": [
      "0\n",
      "1\n",
      "2\n",
      "3\n",
      "4\n",
      "5\n",
      "6\n",
      "7\n",
      "8\n",
      "9\n",
      "finished\n"
     ]
    }
   ],
   "source": [
    "for x in range(0,10):\n",
    "    print(x)\n",
    "else:\n",
    "    print('finished')"
   ]
  },
  {
   "cell_type": "code",
   "execution_count": 94,
   "id": "88550dc8",
   "metadata": {},
   "outputs": [
    {
     "name": "stdout",
     "output_type": "stream",
     "text": [
      "0\n",
      "1\n",
      "2\n"
     ]
    }
   ],
   "source": [
    "for output in range(0,5):\n",
    "    if output == 3:\n",
    "        break\n",
    "    print(output)\n",
    "else:\n",
    "    print('finished')"
   ]
  },
  {
   "cell_type": "code",
   "execution_count": 102,
   "id": "101b2913",
   "metadata": {
    "scrolled": true
   },
   "outputs": [
    {
     "name": "stdout",
     "output_type": "stream",
     "text": [
      "red apple\n",
      "red banana\n",
      "red cherry\n",
      "big apple\n",
      "big banana\n",
      "big cherry\n",
      "tasty apple\n",
      "tasty banana\n",
      "tasty cherry\n"
     ]
    }
   ],
   "source": [
    "# Nested LOOP\n",
    "\n",
    "adj = [\"red\", \"big\", \"tasty\"]\n",
    "fruits = [\"apple\", \"banana\", \"cherry\"]\n",
    "\n",
    "for x in adj: \n",
    "  for y in fruits:   \n",
    "    print(x,y)"
   ]
  },
  {
   "cell_type": "code",
   "execution_count": 114,
   "id": "56008453",
   "metadata": {},
   "outputs": [
    {
     "name": "stdout",
     "output_type": "stream",
     "text": [
      "243\n"
     ]
    }
   ],
   "source": [
    "# Adding number from a list\n",
    "list = [14, 33, 44, 66, 86]\n",
    "sum = 0\n",
    "for numebers in list:\n",
    "    sum = sum + numebers     # here is the logic in this\n",
    "    \n",
    "print(sum)"
   ]
  },
  {
   "cell_type": "code",
   "execution_count": 120,
   "id": "1047bb38",
   "metadata": {},
   "outputs": [
    {
     "name": "stdout",
     "output_type": "stream",
     "text": [
      "1\n",
      "2\n"
     ]
    }
   ],
   "source": [
    "# while loop\n",
    "i = 1\n",
    "while i<6:\n",
    "    print(i)\n",
    "    i+=1\n",
    "    if i == 3:\n",
    "        break\n",
    "    "
   ]
  },
  {
   "cell_type": "code",
   "execution_count": 122,
   "id": "864b2e34",
   "metadata": {},
   "outputs": [
    {
     "name": "stdout",
     "output_type": "stream",
     "text": [
      "1\n",
      "3\n",
      "4\n",
      "5\n",
      "6\n"
     ]
    }
   ],
   "source": [
    "i = 0\n",
    "while i < 6:\n",
    "  i += 1\n",
    "  if i == 2:\n",
    "    continue\n",
    "  print(i)"
   ]
  },
  {
   "cell_type": "code",
   "execution_count": null,
   "id": "23de7e26",
   "metadata": {},
   "outputs": [],
   "source": [
    "# lets add in this while loop try catch block"
   ]
  },
  {
   "cell_type": "code",
   "execution_count": 124,
   "id": "d8d5e527",
   "metadata": {},
   "outputs": [
    {
     "name": "stdout",
     "output_type": "stream",
     "text": [
      " when i is 1 this will be 1 iteration.\n",
      " when i is 2 this will be 2 iteration.\n",
      " when i is 3 this will be 3 iteration.\n",
      " when i is 4 this will be 4 iteration.\n",
      " when i is 5 this will be 5 iteration.\n",
      " when i is 6 this will be 6 iteration.\n"
     ]
    }
   ],
   "source": [
    "i = 0\n",
    "while i<6:\n",
    "    i+=1\n",
    "    print(f\" when i is {i} this will be {i} iteration.\")"
   ]
  },
  {
   "cell_type": "code",
   "execution_count": 126,
   "id": "f4c2750f",
   "metadata": {},
   "outputs": [
    {
     "name": "stdout",
     "output_type": "stream",
     "text": [
      "Enter name of person :Fayaz\n",
      "Enter age  of person :32\n",
      "The name of person is Fayaz and he is 32 years old\n"
     ]
    }
   ],
   "source": [
    "# Create a input name and age then print it with f print string\n",
    "name = input('Enter name of person :')\n",
    "age = int(input('Enter age  of person :'))\n",
    "\n",
    "print(f'The name of person is {name} and he is {age} years old')"
   ]
  },
  {
   "cell_type": "code",
   "execution_count": 128,
   "id": "8d247943",
   "metadata": {},
   "outputs": [
    {
     "name": "stdout",
     "output_type": "stream",
     "text": [
      "<function first_func at 0x000001C35C20AB80>\n",
      "This is my first function\n"
     ]
    }
   ],
   "source": [
    "# Functions \n",
    "'''A function is a block of code which only runs when it is called.\n",
    "\n",
    "You can pass data, known as parameters, into a function.\n",
    "\n",
    "A function can return data as a result.'''\n",
    "\n",
    "def first_func():\n",
    "    print(\"This is my first function\")\n",
    "    \n",
    "print(first_func)\n",
    "first_func() # calling a  function"
   ]
  },
  {
   "cell_type": "code",
   "execution_count": 148,
   "id": "677eb153",
   "metadata": {},
   "outputs": [
    {
     "name": "stdout",
     "output_type": "stream",
     "text": [
      "sh Refsnes\n",
      "Tobias Refsnes\n",
      "Linus Refsnes\n"
     ]
    }
   ],
   "source": [
    "# Information can be passed into functions as arguments.\n",
    "# Arguments are specified after the function name, inside the parentheses. \n",
    "# You can add as many arguments as you want, just separate them with a comma.\n",
    "\n",
    "def my_function(fname):\n",
    "  print(fname + \" Refsnes\")\n",
    "\n",
    "my_function(\"sh\")\n",
    "my_function(\"Tobias\")\n",
    "my_function(\"Linus\")"
   ]
  },
  {
   "cell_type": "code",
   "execution_count": null,
   "id": "3c33bf3e",
   "metadata": {},
   "outputs": [],
   "source": [
    "# Parameters or Argument\n",
    "'''From a function's perspective:\n",
    "\n",
    "A parameter is the variable listed inside the parentheses in the function definition.\n",
    "\n",
    "An argument is the value that is sent to the function when it is called.'''\n",
    "\n",
    "# Number of Arguments\n",
    "'''\n",
    "By default, a function must be called with the correct number of arguments.\n",
    "Meaning that if your function expects 2 arguments, you have to call the function \n",
    "with 2 arguments, not more, and not less.\n",
    "'''"
   ]
  },
  {
   "cell_type": "code",
   "execution_count": 104,
   "id": "459ed452",
   "metadata": {},
   "outputs": [],
   "source": [
    "# The pass statement \n",
    "'''for loops cannot be empty, but if you for some reason have \n",
    "   a for loop with no content, put in the pass statement to avoid\n",
    "   getting an error.'''\n",
    "for x in [0, 1, 2]:\n",
    "    pass"
   ]
  },
  {
   "cell_type": "code",
   "execution_count": null,
   "id": "84a3f756",
   "metadata": {},
   "outputs": [],
   "source": []
  },
  {
   "cell_type": "code",
   "execution_count": null,
   "id": "caecd63d",
   "metadata": {},
   "outputs": [],
   "source": [
    "# function example with input taking\n",
    "\n",
    "name = input(\"Enter you name :\")\n",
    "lottery_no = int(input('Enter you Lottery No. :'))\n",
    "\n",
    "def my_func(name,lottery_no):\n",
    "    print(f'{name} Congratulation you won the lottery {lottery_no} is you lottery number')\n",
    "          \n",
    "my_func(name, lottery_no)"
   ]
  },
  {
   "cell_type": "code",
   "execution_count": null,
   "id": "bdf1511c",
   "metadata": {},
   "outputs": [],
   "source": [
    "# create a function with take three input and tell us which number is big\n",
    "first_no = int(input('Enter first no :'))\n",
    "secocnd_no = int(input('Enter second no :'))\n",
    "third_no = int(input('Enter third no :'))\n",
    "\n",
    "\n",
    "def evaluate(first_no,secocnd_no,third_no): \n",
    "    if first_no > secocnd_no > third_no:\n",
    "        print(f'{first_no} is greater than {secocnd_no} and {third_no}')\n",
    "\n",
    "    elif first_no > secocnd_no < third_no:\n",
    "        print(f'{first_no} is greater than {secocnd_no} but not than {third_no}')\n",
    "    elif first_no < secocnd_no > third_no:\n",
    "        print(f'{first_no} is less than {secocnd_no} but greater than {third_no}')\n",
    "    elif first_no < secocnd_no < third_no:\n",
    "        print(f'{first_no} is less than {secocnd_no} and {third_no}')\n",
    "    else:\n",
    "        print('Wrong Input...!')\n",
    "\n",
    "evaluate(first_no,secocnd_no,third_no)"
   ]
  },
  {
   "cell_type": "code",
   "execution_count": null,
   "id": "848702a1",
   "metadata": {},
   "outputs": [],
   "source": [
    "# Add try: except block if string input inserted\n",
    "\n",
    "    first_no = int(input('Enter first no :'))\n",
    "    secocnd_no = int(input('Enter second no :'))\n",
    "    third_no = int(input('Enter third no :'))\n",
    "\n",
    "try:\n",
    "    def evaluate(first_no,secocnd_no,third_no): \n",
    "        if first_no > secocnd_no > third_no:\n",
    "            print(f'{first_no} is greater than {secocnd_no} and {third_no}')\n",
    "\n",
    "        elif first_no > secocnd_no < third_no:\n",
    "            print(f'{first_no} is greater than {secocnd_no} but not than {third_no}')\n",
    "        elif first_no < secocnd_no > third_no:\n",
    "            print(f'{first_no} is less than {secocnd_no} but greater than {third_no}')\n",
    "        elif first_no < secocnd_no < third_no:\n",
    "            print(f'{first_no} is less than {secocnd_no} and {third_no}')\n",
    "        else:\n",
    "            print('Wrong Input...!')\n",
    "        \n",
    "    evaluate(first_no,secocnd_no,third_no)\n",
    "\n",
    "except:\n",
    "    print(\"You can not input string as input\")\n"
   ]
  },
  {
   "cell_type": "code",
   "execution_count": 153,
   "id": "11ab1fc1",
   "metadata": {},
   "outputs": [
    {
     "name": "stdout",
     "output_type": "stream",
     "text": [
      "a is less then b and c\n"
     ]
    }
   ],
   "source": [
    "a = 2\n",
    "b = 4\n",
    "c = 6\n",
    "\n",
    "if a<b<c:\n",
    "    print('a is less then b and c')\n",
    "else:\n",
    "    print('a is not less the b and c')"
   ]
  },
  {
   "cell_type": "code",
   "execution_count": 14,
   "id": "c783d73a",
   "metadata": {},
   "outputs": [],
   "source": [
    "# Python Class/Objects"
   ]
  },
  {
   "cell_type": "code",
   "execution_count": 15,
   "id": "7d6c7c67",
   "metadata": {},
   "outputs": [
    {
     "name": "stdout",
     "output_type": "stream",
     "text": [
      "<class '__main__.Vegitables'>\n"
     ]
    }
   ],
   "source": [
    " # Class is blueprint to create objects. Because python is OOP language where every one work as object\n",
    "class Vegitables:      \n",
    "    x = 8\n",
    "print(Vegitables)"
   ]
  },
  {
   "cell_type": "code",
   "execution_count": 16,
   "id": "7622dfc0",
   "metadata": {},
   "outputs": [
    {
     "name": "stdout",
     "output_type": "stream",
     "text": [
      "20\n"
     ]
    }
   ],
   "source": [
    "# Create a class and then create a object from it then print the value of that object\n",
    "\n",
    "class Test_class():\n",
    "    value_stored_in_a_variable = 20\n",
    "    \n",
    "    \n",
    "test_class_object = Test_class()\n",
    "print(test_class_object.value_stored_in_a_variable)\n"
   ]
  },
  {
   "cell_type": "code",
   "execution_count": 17,
   "id": "f510c1b4",
   "metadata": {
    "scrolled": true
   },
   "outputs": [
    {
     "name": "stdout",
     "output_type": "stream",
     "text": [
      "20\n",
      "fayaz\n"
     ]
    }
   ],
   "source": [
    "# All classes have built-in __init__() funtion.\n",
    "# This __init__() fucntion is always executed when class class is being initiated\n",
    "# Use this __init__() function to asssign the values to objects proporties or other operation that nessary to do when the object is being created\n",
    "\n",
    "class Person:\n",
    "    def __init__(self, name, age):\n",
    "        self.name = name\n",
    "        self.age = 20\n",
    "        \n",
    "        \n",
    "P1 = Person(\"fayaz\", 36)\n",
    "print(P1.age)\n",
    "print(P1.name)"
   ]
  },
  {
   "cell_type": "code",
   "execution_count": 18,
   "id": "2a1468a6",
   "metadata": {},
   "outputs": [],
   "source": [
    "# object Methods"
   ]
  },
  {
   "cell_type": "code",
   "execution_count": 19,
   "id": "ad74712c",
   "metadata": {},
   "outputs": [
    {
     "name": "stdout",
     "output_type": "stream",
     "text": [
      "fayaz 32\n"
     ]
    }
   ],
   "source": [
    "class Person:\n",
    "    def __init__(self, name, age):\n",
    "        self.name = name\n",
    "        self.age = age\n",
    "        \n",
    "p1 = Person(\"fayaz\", 32)\n",
    "\n",
    "print(p1.name, p1.age)"
   ]
  },
  {
   "cell_type": "code",
   "execution_count": 20,
   "id": "fd826d44",
   "metadata": {},
   "outputs": [
    {
     "name": "stdout",
     "output_type": "stream",
     "text": [
      "hello My name is Fayaz\n"
     ]
    }
   ],
   "source": [
    "# Objects can also cocntain methods, methods in objects are fuctions that belong to the objects.\n",
    "# insert a fucntion that prints a greeting, and execute it on the p1 class\n",
    "class Person:\n",
    "    def __init__(self, name, age):\n",
    "        self.name = name\n",
    "        self.age = age\n",
    "        \n",
    "    \n",
    "    def myFunc(self):\n",
    "        print(\"hello My name is \" + self.name)\n",
    "        \n",
    "p1 = Person(\"Fayaz\", \"32\")\n",
    "p1.myFunc()    "
   ]
  },
  {
   "cell_type": "code",
   "execution_count": 21,
   "id": "d7c0ccbb",
   "metadata": {},
   "outputs": [],
   "source": [
    "# Note # \n",
    "#The self parameter is a reference to the current instance of the class, and is used access variables that belongs to the class"
   ]
  },
  {
   "cell_type": "code",
   "execution_count": 22,
   "id": "162d610a",
   "metadata": {},
   "outputs": [
    {
     "name": "stdout",
     "output_type": "stream",
     "text": [
      "<class '__main__.MyNewClass'>\n"
     ]
    }
   ],
   "source": [
    "# when creating a class it is good to write docstring.\n",
    "class MyNewClass:\n",
    "    '''This is a docstring. I have created a new class'''\n",
    "    pass      # the pass statement is used as placeholder for future code, when the pass statement execute nothing happens.\n",
    "              # but you need to avoid when writing empty code, empty code is not allowed in in loops, function definations, class definitions.\n",
    "\n",
    "print(MyNewClass)"
   ]
  },
  {
   "cell_type": "code",
   "execution_count": 23,
   "id": "74ba81a0",
   "metadata": {
    "scrolled": true
   },
   "outputs": [
    {
     "name": "stdout",
     "output_type": "stream",
     "text": [
      "10\n",
      "<function Person.greet at 0x000001C35AB6CB80>\n",
      "This is a person class\n"
     ]
    }
   ],
   "source": [
    "class Person:   # defining class\n",
    "    \"This is a person class\"     # special type variable docstring\n",
    "    age = 10   # Class attributed\n",
    "    \n",
    "    def greet(self):      # Class method\n",
    "        print(\"hello\")\n",
    "        \n",
    "print(Person.age)         #ClassName.ClassAttribute\n",
    "print(Person.greet)       #ClassName.ClassMethod\n",
    "print(Person.__doc__)"
   ]
  },
  {
   "cell_type": "code",
   "execution_count": 24,
   "id": "8bf2a6a3",
   "metadata": {},
   "outputs": [
    {
     "name": "stdout",
     "output_type": "stream",
     "text": [
      "<__main__.Person object at 0x000001C35AB70A60>\n",
      "<function Person.greet at 0x000001C35AB6C9D0>\n",
      "<bound method Person.greet of <__main__.Person object at 0x000001C35AB70A60>>\n"
     ]
    }
   ],
   "source": [
    "# Creating new object instance\n",
    "class Person:\n",
    "    '''This is person class for learning creating new  object'''\n",
    "    age = 10\n",
    "    \n",
    "    def greet(self):\n",
    "        print('hello')\n",
    "        \n",
    "#cretate a new object of the person\n",
    "fayaz = Person()\n",
    "print(fayaz)\n",
    "\n",
    "print(Person.greet)\n",
    "\n",
    "print(fayaz.greet)\n",
    "\n"
   ]
  },
  {
   "cell_type": "code",
   "execution_count": 25,
   "id": "e58b4336",
   "metadata": {},
   "outputs": [
    {
     "name": "stdout",
     "output_type": "stream",
     "text": [
      "<__main__.ComplexNumber object at 0x000001C35AB77BE0>\n",
      "5 0 10\n",
      "2 + 3 j\n"
     ]
    }
   ],
   "source": [
    "# Constructor in python\n",
    "'''Constructor function that begins with double __ are called special functions as they have speical meaning\n",
    "   __init__() function. This is special function gets called whenever a new object of that class is instantiated'''\n",
    "# This type of function is also called constructors in Object Oriented Programming OOP language. \n",
    "# we normally used it to initialize the variables.\n",
    "\n",
    "class ComplexNumber:\n",
    "    def __init__(self, r=0 , i=0): # we use __init__() to intialize  the variables with default values Zeros.\n",
    "        self.real = r\n",
    "        self.imag = i\n",
    "        \n",
    "    def get_data(self):  # we create this method to display the the output clearly'''\n",
    "        print(f'{self.real} + {self.imag} j')\n",
    "        \n",
    "# Create a new Object with name num1\n",
    "num1 = ComplexNumber(2,3)\n",
    "print(num1)\n",
    "\n",
    "# Create another ComplexNumber object and create a attribute 'attr'\n",
    "num2 = ComplexNumber(5)  \n",
    "num2.attr = 10     # created a new attribute as attr for object num2 and read it as well. But this dos not create that attribute for object num1\n",
    "\n",
    "#\n",
    "print(num2.real, num2.imag, num2.attr)\n",
    "\n",
    "# calling method\n",
    "num1.get_data()   #CreatedOjectfromClass.MethodInsideTheClass()\n"
   ]
  },
  {
   "cell_type": "code",
   "execution_count": 26,
   "id": "5f0e85ab",
   "metadata": {
    "scrolled": true
   },
   "outputs": [
    {
     "ename": "AttributeError",
     "evalue": "'ComplexNumber' object has no attribute 'imag'",
     "output_type": "error",
     "traceback": [
      "\u001b[1;31m---------------------------------------------------------------------------\u001b[0m",
      "\u001b[1;31mAttributeError\u001b[0m                            Traceback (most recent call last)",
      "Input \u001b[1;32mIn [26]\u001b[0m, in \u001b[0;36m<cell line: 4>\u001b[1;34m()\u001b[0m\n\u001b[0;32m      2\u001b[0m num1 \u001b[38;5;241m=\u001b[39m ComplexNumber(\u001b[38;5;241m2\u001b[39m,\u001b[38;5;241m3\u001b[39m)\n\u001b[0;32m      3\u001b[0m \u001b[38;5;28;01mdel\u001b[39;00m num1\u001b[38;5;241m.\u001b[39mimag\n\u001b[1;32m----> 4\u001b[0m \u001b[43mnum1\u001b[49m\u001b[38;5;241;43m.\u001b[39;49m\u001b[43mget_data\u001b[49m\u001b[43m(\u001b[49m\u001b[43m)\u001b[49m\n",
      "Input \u001b[1;32mIn [25]\u001b[0m, in \u001b[0;36mComplexNumber.get_data\u001b[1;34m(self)\u001b[0m\n\u001b[0;32m     12\u001b[0m \u001b[38;5;28;01mdef\u001b[39;00m \u001b[38;5;21mget_data\u001b[39m(\u001b[38;5;28mself\u001b[39m):  \u001b[38;5;66;03m# we create this method to display the the output clearly'''\u001b[39;00m\n\u001b[1;32m---> 13\u001b[0m     \u001b[38;5;28mprint\u001b[39m(\u001b[38;5;124mf\u001b[39m\u001b[38;5;124m'\u001b[39m\u001b[38;5;132;01m{\u001b[39;00m\u001b[38;5;28mself\u001b[39m\u001b[38;5;241m.\u001b[39mreal\u001b[38;5;132;01m}\u001b[39;00m\u001b[38;5;124m + \u001b[39m\u001b[38;5;132;01m{\u001b[39;00m\u001b[38;5;28mself\u001b[39m\u001b[38;5;241m.\u001b[39mimag\u001b[38;5;132;01m}\u001b[39;00m\u001b[38;5;124m j\u001b[39m\u001b[38;5;124m'\u001b[39m)\n",
      "\u001b[1;31mAttributeError\u001b[0m: 'ComplexNumber' object has no attribute 'imag'"
     ]
    }
   ],
   "source": [
    "# Deleting attribute\n",
    "num1 = ComplexNumber(2,3)\n",
    "del num1.imag\n",
    "num1.get_data()"
   ]
  },
  {
   "cell_type": "code",
   "execution_count": 27,
   "id": "cde42e9b",
   "metadata": {},
   "outputs": [
    {
     "name": "stdout",
     "output_type": "stream",
     "text": [
      "You have deleted imag attribute\n"
     ]
    }
   ],
   "source": [
    "# Deleting attribute\n",
    "num1 = ComplexNumber(2,3)\n",
    "del num1.imag\n",
    "try:\n",
    "    num1.get_data()\n",
    "except AttributeError:\n",
    "    print('You have deleted imag attribute')"
   ]
  },
  {
   "cell_type": "code",
   "execution_count": 28,
   "id": "fc6e3f36",
   "metadata": {},
   "outputs": [
    {
     "name": "stdout",
     "output_type": "stream",
     "text": [
      "Fayaz Malik\n"
     ]
    }
   ],
   "source": [
    "# Inheritance inherit all methods and properties from other class.\n",
    "\n",
    "# Use StudentT class to create an object, and then execute the printname method.\n",
    "\n",
    "class Person:\n",
    "    def __init__(self, fname, lname):  # Here we have initialize our variables\n",
    "        self.firstname = fname\n",
    "        self.lastname = lname\n",
    "        \n",
    "    def printname(self):\n",
    "        print(self.firstname, self.lastname)\n",
    "        \n",
    "class Student(Person):\n",
    "    pass\n",
    "\n",
    "X = Student(\"Fayaz\",\"Malik\")\n",
    "X.printname()"
   ]
  },
  {
   "cell_type": "code",
   "execution_count": 29,
   "id": "6736e0fa",
   "metadata": {},
   "outputs": [
    {
     "name": "stdout",
     "output_type": "stream",
     "text": [
      "fayaz malik\n"
     ]
    }
   ],
   "source": [
    "# Use __init__() in child class to call the parent's __init__()\n",
    "class Person:\n",
    "  def __init__(self, fname, lname):\n",
    "    self.firstname = fname\n",
    "    self.lastname = lname\n",
    "\n",
    "  def printname(self):\n",
    "    print(self.firstname, self.lastname)\n",
    "\n",
    "class Student(Person):\n",
    "  def __init__(self, fname, lname):\n",
    "    Person.__init__(self, fname, lname)\n",
    "\n",
    "x = Student(\"fayaz\",\"malik\")\n",
    "x.printname()"
   ]
  },
  {
   "cell_type": "code",
   "execution_count": 30,
   "id": "1f6ce683",
   "metadata": {},
   "outputs": [
    {
     "name": "stdout",
     "output_type": "stream",
     "text": [
      "fayaz Malik\n"
     ]
    }
   ],
   "source": [
    "# super() funtion.\n",
    "# super() function that will make the child class inherit all the methods and propoerties from it's parents\n",
    "\n",
    "class Person:\n",
    "    def __init__(self, fname, lname):\n",
    "        self.firstname = fname\n",
    "        self.lastname = lname\n",
    "        \n",
    "    def printname(self):\n",
    "        print(self.firstname, self.lastname)\n",
    "        \n",
    "class Student(Person):\n",
    "    def __init__(self, fname, lname):\n",
    "        super().__init__(fname,lname)    # super() funtion.\n",
    "\n",
    "x = Student(\"fayaz\",\"Malik\")\n",
    "x.printname()\n",
    "        \n",
    "        "
   ]
  },
  {
   "cell_type": "code",
   "execution_count": 39,
   "id": "de43fceb",
   "metadata": {},
   "outputs": [
    {
     "name": "stdout",
     "output_type": "stream",
     "text": [
      "2019\n"
     ]
    }
   ],
   "source": [
    "class Person:\n",
    "    '''Add a proporty called graduationyear in child class'''\n",
    "    def __init__(self, fname, lname):\n",
    "        self.firstname = fname\n",
    "        self.lastname = lname\n",
    "\n",
    "    def printname(self):\n",
    "        print(self.firstname, self.lastname)\n",
    "\n",
    "class Student(Person):\n",
    "    def __init__(self, fname, lname):\n",
    "        super().__init__(fname, lname)\n",
    "        self.graduationyear = 2019\n",
    "\n",
    "x = Student(\"Mike\", \"Olsen\")\n",
    "print(x.graduationyear)"
   ]
  },
  {
   "cell_type": "code",
   "execution_count": null,
   "id": "ef71fcef",
   "metadata": {},
   "outputs": [],
   "source": [
    "print('Hello world')"
   ]
  },
  {
   "cell_type": "code",
   "execution_count": 1,
   "id": "0e928a7a",
   "metadata": {},
   "outputs": [
    {
     "name": "stdout",
     "output_type": "stream",
     "text": [
      "32 fayaz\n",
      "Software House Karai\n",
      "fayaz Karai\n",
      "fayaz 32 Software House Karai\n",
      "Name is  fayaz age is  32\n"
     ]
    }
   ],
   "source": [
    "class A:\n",
    "    def __init__(self , name , age):\n",
    "        self.name = name\n",
    "        self.age = age\n",
    "\n",
    "    def show(self):\n",
    "        print(f'Name is ' , self.name, 'age is ' , self.age)\n",
    "\n",
    "class B(A):\n",
    "    def __init__(self, work, home):\n",
    "        self.work = work\n",
    "        self.home = home\n",
    "\n",
    "    def show2(self):\n",
    "        print(f'name is ' , self.name, 'age is', self.age, 'work at', self.work, 'Address is' , self.home)\n",
    "\n",
    "obj1 = A('fayaz', '32')\n",
    "obj2 = B('Software House', 'Karai')\n",
    "\n",
    "# print with objects\n",
    "print(obj1.age, obj1.name)\n",
    "print(obj2.work, obj2.home)\n",
    "print(obj1.name, obj2.home)\n",
    "print(obj1.name,obj1.age,obj2.work,obj2.home)\n",
    "\n",
    "# print with methods\n",
    "obj1.show()\n"
   ]
  },
  {
   "cell_type": "code",
   "execution_count": null,
   "id": "b8fb1a30",
   "metadata": {},
   "outputs": [],
   "source": [
    "'''Inheritence concepts and coding'''"
   ]
  },
  {
   "cell_type": "code",
   "execution_count": 2,
   "id": "a9e2892b",
   "metadata": {},
   "outputs": [
    {
     "name": "stdout",
     "output_type": "stream",
     "text": [
      "I can eat\n",
      "I can eat\n"
     ]
    }
   ],
   "source": [
    "class Animal:\n",
    "    def eat(self):\n",
    "        print('I can eat')\n",
    "\n",
    "class Dog(Animal):\n",
    "    def bark(self):\n",
    "        print('I can bark')\n",
    "\n",
    "class Lion(Animal):\n",
    "    def Roar(self):\n",
    "        print('I can roar')\n",
    "\n",
    "# Object from lion and printed Animal main class method eat\n",
    "objLion = Lion()\n",
    "objLion.eat()\n",
    "\n",
    "# Object from dogClass and printed Animal main class methhod eat\n",
    "objectDog = Dog()\n",
    "objectDog.eat()"
   ]
  },
  {
   "cell_type": "code",
   "execution_count": 5,
   "id": "f0b0b9bc",
   "metadata": {},
   "outputs": [
    {
     "name": "stdout",
     "output_type": "stream",
     "text": [
      "The perimeter is : 62\n"
     ]
    }
   ],
   "source": [
    "# https://www.programiz.com/python-programming/inheritance\n",
    "\n",
    "class Polygon:\n",
    "    def __init__(self, sides):\n",
    "        self.sides = sides\n",
    "\n",
    "    def display_info(self):\n",
    "        print(\"This is polygon of two sides\")\n",
    "\n",
    "    def get_perimeter(self):\n",
    "        perimeter = sum(self.sides)\n",
    "        return perimeter\n",
    "\n",
    "class Triangle(Polygon):\n",
    "    def display_info1(self):\n",
    "        print('A triangle has 3 sides')\n",
    "\n",
    "class Quadrilateral(Polygon):\n",
    "    def display_info2(self):\n",
    "        print('Quadrilateral has four sides')\n",
    "\n",
    "t1 = Triangle([12,15,35])\n",
    "perimeter = t1.get_perimeter()\n",
    "print('The perimeter is :' , perimeter)"
   ]
  },
  {
   "cell_type": "code",
   "execution_count": 6,
   "id": "cb6a3bff",
   "metadata": {},
   "outputs": [
    {
     "name": "stdout",
     "output_type": "stream",
     "text": [
      "The perimeter is : 62\n",
      "This perimeter of quadrilater is : 92\n",
      "A triangle has 3 sides\n",
      "This is polygon of two sides\n",
      "Quadrilateral has four sides\n",
      "This is polygon of two sides\n"
     ]
    }
   ],
   "source": [
    "# Method Overriding \n",
    "class Polygon:\n",
    "    def __init__(self, sides):\n",
    "        self.sides = sides\n",
    "\n",
    "    def display_info(self):\n",
    "        print(\"This is polygon of two sides\")\n",
    "\n",
    "    def get_perimeter(self):\n",
    "        perimeter = sum(self.sides)\n",
    "        return perimeter\n",
    "\n",
    "class Triangle(Polygon):\n",
    "    def display_info(self):\n",
    "        print('A triangle has 3 sides')\n",
    "        # Here method will be override by derived class so\n",
    "        Polygon.display_info(self)\n",
    "\n",
    "class Quadrilateral(Polygon):\n",
    "    def display_info(self):\n",
    "        print('Quadrilateral has four sides')\n",
    "        # Here method will be override by derived class so\n",
    "        super().display_info()  # More Elegagnt method\n",
    "\n",
    "t1 = Triangle([12,15,35])\n",
    "perimeter = t1.get_perimeter()\n",
    "print('The perimeter is :' , perimeter)\n",
    "\n",
    "q1 = Quadrilateral([12,43,23,14])\n",
    "perimeter = q1.get_perimeter()\n",
    "print('This perimeter of quadrilater is :', perimeter)\n",
    "\n",
    "# LETS TRY METHOD OVERRIDING\n",
    "t1.display_info()\n",
    "# LETS TRY METHOD OVERRIDING\n",
    "q1.display_info()"
   ]
  },
  {
   "cell_type": "code",
   "execution_count": 1,
   "id": "f0f15c2b",
   "metadata": {},
   "outputs": [
    {
     "name": "stdout",
     "output_type": "stream",
     "text": [
      "82000\n",
      "This is admin class salary 82000\n",
      "49000\n",
      "This is Maintaineance salary 49000\n"
     ]
    }
   ],
   "source": [
    "# with overridding of the derived classes\n",
    "class Employees:\n",
    "    def __init__(self, salary):\n",
    "        self.salary = salary\n",
    "\n",
    "    def show_salary(self):\n",
    "        print('This is for employee :' , self.salary)\n",
    "\n",
    "    def calculate_salary(self):\n",
    "        calculate_salary = sum(self.salary)\n",
    "        return calculate_salary\n",
    "\n",
    "class Admin(Employees):\n",
    "    def show_salary(self):\n",
    "        print('This is admin class salary' , self.calculate_salary())\n",
    "\n",
    "\n",
    "class Maintaineance(Employees):\n",
    "    def show_salary(self):\n",
    "        print('This is Maintaineance salary' , self.calculate_salary())\n",
    "\n",
    "# Lets create Admin Object\n",
    "admin_emp = Admin([20000,50000, 2000, 10000])\n",
    "print(admin_emp.calculate_salary())\n",
    "# Calling Admin method\n",
    "admin_emp.show_salary()\n",
    "\n",
    "maint_emp = Maintaineance([40000, 5000, 3000, 1000])\n",
    "# print the salary of Maintaineance\n",
    "print(maint_emp.calculate_salary())\n",
    "# Let's print the method for this class\n",
    "maint_emp.show_salary()"
   ]
  },
  {
   "cell_type": "code",
   "execution_count": 2,
   "id": "b286b50b",
   "metadata": {},
   "outputs": [
    {
     "name": "stdout",
     "output_type": "stream",
     "text": [
      "82000\n",
      "This is admin class salary 82000\n",
      "49000\n",
      "This is Maintaineance salary 49000\n"
     ]
    }
   ],
   "source": [
    "# Managed overridding of the derived classes\n",
    "\n",
    "class Employees:\n",
    "    def __init__(self, salary):\n",
    "        self.salary = salary\n",
    "\n",
    "    def show_salary(self):\n",
    "        print('This is for employee :' , self.salary)\n",
    "\n",
    "    def calculate_salary(self):\n",
    "        calculate_salary = sum(self.salary)\n",
    "        return calculate_salary\n",
    "\n",
    "class Admin(Employees):\n",
    "    def show_salary(self):\n",
    "        print('This is admin class salary' , self.calculate_salary())\n",
    "\n",
    "\n",
    "class Maintaineance(Employees):\n",
    "    def show_salary(self):\n",
    "        print('This is Maintaineance salary' , self.calculate_salary())\n",
    "\n",
    "# Lets create Admin Object\n",
    "admin_emp = Admin([20000,50000, 2000, 10000])\n",
    "print(admin_emp.calculate_salary())\n",
    "# Calling Admin method\n",
    "admin_emp.show_salary()\n",
    "\n",
    "maint_emp = Maintaineance([40000, 5000, 3000, 1000])\n",
    "# print the salary of Maintaineance\n",
    "print(maint_emp.calculate_salary())\n",
    "# Let's print the method for this class\n",
    "maint_emp.show_salary()"
   ]
  },
  {
   "cell_type": "code",
   "execution_count": 3,
   "id": "8b0700b5",
   "metadata": {},
   "outputs": [
    {
     "name": "stdout",
     "output_type": "stream",
     "text": [
      "This is admin class salary 82000\n",
      "Employee Salary : [20000, 50000, 2000, 10000]\n",
      "Employee Salary : [20000, 50000, 2000, 10000]\n",
      "This is Maintaineance salary 49000\n",
      "Employee Salary : [40000, 5000, 3000, 1000]\n",
      "Employee Salary : [40000, 5000, 3000, 1000]\n"
     ]
    }
   ],
   "source": [
    "class Employees:\n",
    "    def __init__(self, salary):\n",
    "        self.salary = salary\n",
    "\n",
    "    def show_salary(self):\n",
    "        print('Employee Salary :' , self.salary)\n",
    "\n",
    "    def calculate_salary(self):\n",
    "        calculate_salary = sum(self.salary)\n",
    "        return calculate_salary\n",
    "\n",
    "class Admin(Employees):\n",
    "    def show_salary(self):\n",
    "        print('This is admin class salary' , self.calculate_salary())\n",
    "        #Employees.show_salary(self)\n",
    "        super(Admin, self).show_salary() # This will print the main class salary\n",
    "        super().show_salary() # This will print the main class salary\n",
    "\n",
    "\n",
    "class Maintaineance(Employees):\n",
    "    def show_salary(self):\n",
    "        print('This is Maintaineance salary' , self.calculate_salary())\n",
    "        super(Maintaineance, self).show_salary()\n",
    "        super().show_salary()    \n",
    "        \n",
    "\n",
    "# Lets create Admin Object\n",
    "admin_emp = Admin([20000,50000, 2000, 10000])\n",
    "maint_emp = Maintaineance([40000, 5000, 3000, 1000])\n",
    "\n",
    "admin_emp.show_salary()\n",
    "maint_emp.show_salary()\n"
   ]
  }
 ],
 "metadata": {
  "kernelspec": {
   "display_name": "Python 3 (ipykernel)",
   "language": "python",
   "name": "python3"
  },
  "language_info": {
   "codemirror_mode": {
    "name": "ipython",
    "version": 3
   },
   "file_extension": ".py",
   "mimetype": "text/x-python",
   "name": "python",
   "nbconvert_exporter": "python",
   "pygments_lexer": "ipython3",
   "version": "3.9.12"
  }
 },
 "nbformat": 4,
 "nbformat_minor": 5
}
