{
 "cells": [
  {
   "cell_type": "code",
   "execution_count": 3,
   "metadata": {
    "collapsed": true
   },
   "outputs": [
    {
     "name": "stdout",
     "output_type": "stream",
     "text": [
      "Hello world...!\n"
     ]
    }
   ],
   "source": [
    "print(\"Hello world...!\")"
   ]
  },
  {
   "cell_type": "code",
   "execution_count": 27,
   "outputs": [
    {
     "name": "stdout",
     "output_type": "stream",
     "text": [
      "Imran get 80.3529411764706%\n"
     ]
    }
   ],
   "source": [
    "class School:\n",
    "    def __init__(self, student_name, college_name, roll_number):\n",
    "        self.student_name = student_name\n",
    "        self.college_name = college_name\n",
    "        self.roll_number = roll_number\n",
    "\n",
    "    def marks(self):\n",
    "        total_marks = 850\n",
    "        obtained_marks = 683\n",
    "        return obtained_marks/total_marks * 100\n",
    "\n",
    "    def identify(self):\\\n",
    "        print(f'{self.student_name} get {self.marks()}%')\n",
    "\n",
    "imran = School(\"Imran\", \"software\", \"12SW62\")\n",
    "imran.identify()"
   ],
   "metadata": {
    "collapsed": false,
    "pycharm": {
     "name": "#%%\n"
    }
   }
  },
  {
   "cell_type": "code",
   "execution_count": 28,
   "outputs": [
    {
     "name": "stdout",
     "output_type": "stream",
     "text": [
      "Tutor is Vijdan Khaliq teach Machine Learning\n",
      "Tutor is Naeem Mohoto teach Databases\n",
      "Tutor is Shafqat cheema teach MPT\n"
     ]
    }
   ],
   "source": [
    "class Teachers:\n",
    "    def __init__(self, teacher_name, subject,):\n",
    "        self.teacher_name = teacher_name\n",
    "        self.subject = subject\n",
    "\n",
    "    def detail(self):\n",
    "        print(f'Tutor is {self.teacher_name} teach {self.subject}')\n",
    "\n",
    "teacher1  = Teachers(\"Vijdan Khaliq\", \"Machine Learning\")\n",
    "teacher2  = Teachers(\"Naeem Mohoto\", \"Databases\")\n",
    "teacher3  = Teachers(\"Shafqat cheema\", \"MPT\")\n",
    "\n",
    "teacher1.detail()\n",
    "teacher2.detail()\n",
    "teacher3.detail()"
   ],
   "metadata": {
    "collapsed": false,
    "pycharm": {
     "name": "#%%\n"
    }
   }
  },
  {
   "cell_type": "code",
   "execution_count": 29,
   "outputs": [
    {
     "name": "stdout",
     "output_type": "stream",
     "text": [
      "22\n",
      "45\n",
      "76\n",
      "22 45 76\n",
      "76 22 45\n"
     ]
    }
   ],
   "source": [
    "x,y,z = 22 , 45, 76\n",
    "print(x)\n",
    "print(y)\n",
    "print(z)\n",
    "print(x,y,z)\n",
    "print(z,x,y)"
   ],
   "metadata": {
    "collapsed": false,
    "pycharm": {
     "name": "#%%\n"
    }
   }
  },
  {
   "cell_type": "code",
   "execution_count": 30,
   "outputs": [
    {
     "name": "stdout",
     "output_type": "stream",
     "text": [
      "orange\n",
      "orange\n",
      "orange\n",
      "orange orange orange\n"
     ]
    }
   ],
   "source": [
    "# one value to multiple variables\n",
    "a = b = c = \"orange\"\n",
    "print(a)\n",
    "print(b)\n",
    "print(c)\n",
    "print(a,b,c)"
   ],
   "metadata": {
    "collapsed": false,
    "pycharm": {
     "name": "#%%\n"
    }
   }
  },
  {
   "cell_type": "code",
   "execution_count": 31,
   "outputs": [
    {
     "name": "stdout",
     "output_type": "stream",
     "text": [
      "Help on tuple object:\n",
      "\n",
      "class tuple(object)\n",
      " |  tuple(iterable=(), /)\n",
      " |  \n",
      " |  Built-in immutable sequence.\n",
      " |  \n",
      " |  If no argument is given, the constructor returns an empty tuple.\n",
      " |  If iterable is specified the tuple is initialized from iterable's items.\n",
      " |  \n",
      " |  If the argument is a tuple, the return value is the same object.\n",
      " |  \n",
      " |  Built-in subclasses:\n",
      " |      asyncgen_hooks\n",
      " |      UnraisableHookArgs\n",
      " |  \n",
      " |  Methods defined here:\n",
      " |  \n",
      " |  __add__(self, value, /)\n",
      " |      Return self+value.\n",
      " |  \n",
      " |  __contains__(self, key, /)\n",
      " |      Return key in self.\n",
      " |  \n",
      " |  __eq__(self, value, /)\n",
      " |      Return self==value.\n",
      " |  \n",
      " |  __ge__(self, value, /)\n",
      " |      Return self>=value.\n",
      " |  \n",
      " |  __getattribute__(self, name, /)\n",
      " |      Return getattr(self, name).\n",
      " |  \n",
      " |  __getitem__(self, key, /)\n",
      " |      Return self[key].\n",
      " |  \n",
      " |  __getnewargs__(self, /)\n",
      " |  \n",
      " |  __gt__(self, value, /)\n",
      " |      Return self>value.\n",
      " |  \n",
      " |  __hash__(self, /)\n",
      " |      Return hash(self).\n",
      " |  \n",
      " |  __iter__(self, /)\n",
      " |      Implement iter(self).\n",
      " |  \n",
      " |  __le__(self, value, /)\n",
      " |      Return self<=value.\n",
      " |  \n",
      " |  __len__(self, /)\n",
      " |      Return len(self).\n",
      " |  \n",
      " |  __lt__(self, value, /)\n",
      " |      Return self<value.\n",
      " |  \n",
      " |  __mul__(self, value, /)\n",
      " |      Return self*value.\n",
      " |  \n",
      " |  __ne__(self, value, /)\n",
      " |      Return self!=value.\n",
      " |  \n",
      " |  __repr__(self, /)\n",
      " |      Return repr(self).\n",
      " |  \n",
      " |  __rmul__(self, value, /)\n",
      " |      Return value*self.\n",
      " |  \n",
      " |  count(self, value, /)\n",
      " |      Return number of occurrences of value.\n",
      " |  \n",
      " |  index(self, value, start=0, stop=9223372036854775807, /)\n",
      " |      Return first index of value.\n",
      " |      \n",
      " |      Raises ValueError if the value is not present.\n",
      " |  \n",
      " |  ----------------------------------------------------------------------\n",
      " |  Class methods defined here:\n",
      " |  \n",
      " |  __class_getitem__(...) from builtins.type\n",
      " |      See PEP 585\n",
      " |  \n",
      " |  ----------------------------------------------------------------------\n",
      " |  Static methods defined here:\n",
      " |  \n",
      " |  __new__(*args, **kwargs) from builtins.type\n",
      " |      Create and return a new object.  See help(type) for accurate signature.\n",
      "\n"
     ]
    }
   ],
   "source": [
    "elements = 22 , 45, 76, 13, 5, 3\n",
    "help(elements)"
   ],
   "metadata": {
    "collapsed": false,
    "pycharm": {
     "name": "#%%\n"
    }
   }
  },
  {
   "cell_type": "code",
   "execution_count": 10,
   "outputs": [
    {
     "name": "stdout",
     "output_type": "stream",
     "text": [
      "140 100 2400 6.0\n"
     ]
    }
   ],
   "source": [
    "class Calculator:\n",
    "    def __init__(self, first_no, second_no):\n",
    "        self.first = first_no\n",
    "        self.second = second_no\n",
    "    def addition(self):\n",
    "        add = self.first + self.second\n",
    "        return add\n",
    "    def subtract(self):\n",
    "        subtract = self.first - self.second\n",
    "        return subtract\n",
    "    def multiply(self):\n",
    "        multiply = self.first * self.second\n",
    "        return multiply\n",
    "    def divide(self):\n",
    "        divide = self.first / self.second\n",
    "        return divide\n",
    "\n",
    "calculator = Calculator(int(input(\"Enter first no. : \")), int(input(\"Enter Second No : \")))\n",
    "\n",
    "print(calculator.addition(),calculator.subtract(),calculator.multiply(), calculator.divide())"
   ],
   "metadata": {
    "collapsed": false,
    "pycharm": {
     "name": "#%%\n"
    }
   }
  },
  {
   "cell_type": "code",
   "execution_count": 9,
   "outputs": [
    {
     "ename": "Exception",
     "evalue": "You have entered write value",
     "output_type": "error",
     "traceback": [
      "\u001B[1;31m---------------------------------------------------------------------------\u001B[0m",
      "\u001B[1;31mException\u001B[0m                                 Traceback (most recent call last)",
      "Input \u001B[1;32mIn [9]\u001B[0m, in \u001B[0;36m<cell line: 2>\u001B[1;34m()\u001B[0m\n\u001B[0;32m      1\u001B[0m a \u001B[38;5;241m=\u001B[39m \u001B[38;5;28mint\u001B[39m(\u001B[38;5;28minput\u001B[39m(\u001B[38;5;124m\"\u001B[39m\u001B[38;5;124mEnter value of a :\u001B[39m\u001B[38;5;124m\"\u001B[39m))\n\u001B[0;32m      2\u001B[0m \u001B[38;5;28;01mif\u001B[39;00m a \u001B[38;5;241m>\u001B[39m\u001B[38;5;241m0\u001B[39m:\n\u001B[1;32m----> 3\u001B[0m     \u001B[38;5;28;01mraise\u001B[39;00m \u001B[38;5;167;01mException\u001B[39;00m(\u001B[38;5;124m'\u001B[39m\u001B[38;5;124mYou have entered write value\u001B[39m\u001B[38;5;124m'\u001B[39m)\n\u001B[0;32m      4\u001B[0m \u001B[38;5;28;01melif\u001B[39;00m a \u001B[38;5;241m<\u001B[39m\u001B[38;5;241m=\u001B[39m \u001B[38;5;241m0\u001B[39m:\n\u001B[0;32m      5\u001B[0m     \u001B[38;5;28;01mraise\u001B[39;00m \u001B[38;5;167;01mException\u001B[39;00m(\u001B[38;5;124m\"\u001B[39m\u001B[38;5;124mSorry..! you can not enter zero value\u001B[39m\u001B[38;5;124m\"\u001B[39m)\n",
      "\u001B[1;31mException\u001B[0m: You have entered write value"
     ]
    }
   ],
   "source": [
    "a = int(input(\"Enter value of a :\"))\n",
    "if a >0:\n",
    "    raise Exception('You have entered write value')\n",
    "elif a <= 0:\n",
    "    raise Exception(\"Sorry..! you can not enter zero value\")"
   ],
   "metadata": {
    "collapsed": false,
    "pycharm": {
     "name": "#%%\n"
    }
   }
  },
  {
   "cell_type": "code",
   "execution_count": 8,
   "outputs": [
    {
     "data": {
      "text/plain": "False"
     },
     "execution_count": 8,
     "metadata": {},
     "output_type": "execute_result"
    }
   ],
   "source": [
    "txt = \"CompanyX1\"\n",
    "x = txt.isalpha()\n",
    "x"
   ],
   "metadata": {
    "collapsed": false,
    "pycharm": {
     "name": "#%%\n"
    }
   }
  },
  {
   "cell_type": "code",
   "execution_count": 7,
   "outputs": [
    {
     "data": {
      "text/plain": "True"
     },
     "execution_count": 7,
     "metadata": {},
     "output_type": "execute_result"
    }
   ],
   "source": [
    "text = \"111345\"\n",
    "y = text.isdigit()\n",
    "y"
   ],
   "metadata": {
    "collapsed": false,
    "pycharm": {
     "name": "#%%\n"
    }
   }
  },
  {
   "cell_type": "code",
   "execution_count": 6,
   "outputs": [
    {
     "data": {
      "text/plain": "False"
     },
     "execution_count": 6,
     "metadata": {},
     "output_type": "execute_result"
    }
   ],
   "source": [
    "scooby =  \"My name is fayaz\"\n",
    "h = scooby.isspace()\n",
    "h"
   ],
   "metadata": {
    "collapsed": false,
    "pycharm": {
     "name": "#%%\n"
    }
   }
  },
  {
   "cell_type": "code",
   "execution_count": 5,
   "outputs": [
    {
     "name": "stdout",
     "output_type": "stream",
     "text": [
      "You have qualified for the test\n"
     ]
    }
   ],
   "source": [
    "def fpsc(score = int(input(\"Enter Valie\"))):\n",
    "    if score >= 60:\n",
    "        print(\"You have qualified for the test\")\n",
    "    elif score >= 50:\n",
    "        print(\"you score is not that great\")\n",
    "    else:\n",
    "        print(\"Failed..! Better try next time\")\n",
    "\n",
    "fpsc()"
   ],
   "metadata": {
    "collapsed": false,
    "pycharm": {
     "name": "#%%\n"
    }
   }
  },
  {
   "cell_type": "code",
   "execution_count": 4,
   "outputs": [
    {
     "name": "stdout",
     "output_type": "stream",
     "text": [
      "This student get 56 and percentage is : 0.56\n"
     ]
    }
   ],
   "source": [
    "class Fpsc:\n",
    "    def __init__(self):\n",
    "        pass\n",
    "\n",
    "    def get_percentage(self, obtained = int(input(\"Enter obtained marks here : \"))):\n",
    "        self.obtained_marks = obtained\n",
    "        percentage = self.obtained_marks/100\n",
    "        return percentage\n",
    "\n",
    "    def student_show(self):\n",
    "        print(f'This student get {self.obtained_marks} and percentage is : {self.get_percentage()}')\n",
    "\n",
    "std1 = Fpsc()\n",
    "std1.get_percentage()\n",
    "std1.student_show()"
   ],
   "metadata": {
    "collapsed": false,
    "pycharm": {
     "name": "#%%\n"
    }
   }
  },
  {
   "cell_type": "code",
   "execution_count": null,
   "outputs": [],
   "source": [],
   "metadata": {
    "collapsed": false,
    "pycharm": {
     "name": "#%%\n"
    }
   }
  }
 ],
 "metadata": {
  "kernelspec": {
   "display_name": "Python 3",
   "language": "python",
   "name": "python3"
  },
  "language_info": {
   "codemirror_mode": {
    "name": "ipython",
    "version": 2
   },
   "file_extension": ".py",
   "mimetype": "text/x-python",
   "name": "python",
   "nbconvert_exporter": "python",
   "pygments_lexer": "ipython2",
   "version": "2.7.6"
  }
 },
 "nbformat": 4,
 "nbformat_minor": 0
}